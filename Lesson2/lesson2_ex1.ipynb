{
 "cells": [
  {
   "cell_type": "markdown",
   "metadata": {},
   "source": [
    "# 17 張鐵英的 Lesson 2 作業"
   ]
  },
  {
   "cell_type": "markdown",
   "metadata": {},
   "source": [
    "## 來源:student.csv\n",
    "name,age,city  \n",
    "John,23,New York  \n",
    "Jane,29,Los Angeles  \n",
    "Doe,25,Chicago  \n",
    "Anna,22,Houston\n",
    "\n",
    "## Q1: 使用 Python 內建的 csv 模組讀取文件\n",
    "## 請輸出\n",
    "{'name': 'John', 'age': '23', 'city': 'New York'}  \n",
    "{'name': 'Jane', 'age': '29', 'city': 'Los Angeles'}  \n",
    "{'name': 'Doe', 'age': '25', 'city': 'Chicago'}  \n",
    "{'name': 'Anna', 'age': '22', 'city': 'Houston'}"
   ]
  },
  {
   "cell_type": "markdown",
   "metadata": {},
   "source": [
    "## Q1 ----- Code -----"
   ]
  },
  {
   "cell_type": "code",
   "execution_count": null,
   "metadata": {},
   "outputs": [],
   "source": [
    "<pre id=\"code-block\">\n",
    "<code>\n",
    "import csv\n",
    "# Specify the path to your CSV file\n",
    "file_path = 'student.csv'   \n",
    "with open(file_path, mode='r', encoding='utf-8') as file:\n",
    "    # csvReader = csv.reader(file)\n",
    "    csvReader = csv.DictReader(file)  \n",
    "    # Iterate through rows and print each one\n",
    "    for row in csvReader:   \n",
    "        print(row)\n",
    "</code>\n",
    "</pre>"
   ]
  },
  {
   "cell_type": "markdown",
   "metadata": {},
   "source": [
    "## Q1: Output\n",
    "{'name': 'John', 'age': '23', 'city': 'New York'}  \n",
    "{'name': 'Jane', 'age': '29', 'city': 'Los Angeles'}  \n",
    "{'name': 'Doe', 'age': '25', 'city': 'Chicago'}  \n",
    "{'name': 'Anna', 'age': '22', 'city': 'Houston'}"
   ]
  },
  {
   "cell_type": "markdown",
   "metadata": {},
   "source": [
    "## Q2: 篩選內容:年齡大於25的人"
   ]
  },
  {
   "cell_type": "markdown",
   "metadata": {},
   "source": [
    "## Q2 ----- Code 1 -----"
   ]
  },
  {
   "cell_type": "code",
   "execution_count": null,
   "metadata": {},
   "outputs": [],
   "source": [
    "<pre id=\"code-block\">\n",
    "<code>\n",
    "import csv\n",
    "\n",
    "# Specify the path to your CSV file\n",
    "file_path = 'student.csv'\n",
    "\n",
    "with open(file_path, mode='r', encoding='utf-8') as file:\n",
    "    csvReader = csv.DictReader(file)\n",
    "    for row in csvReader:\n",
    "        if int(row['age']) > 25:\n",
    "            print(f\"{row['name']},{row['age']},{row['city']}\")\n",
    "</code>\n",
    "</pre>"
   ]
  },
  {
   "cell_type": "markdown",
   "metadata": {},
   "source": [
    "## Q2: code 1 output\n",
    "Jane,29,Los Angeles\n"
   ]
  },
  {
   "cell_type": "markdown",
   "metadata": {},
   "source": [
    "## Q2----- Code 2 --------"
   ]
  },
  {
   "cell_type": "code",
   "execution_count": null,
   "metadata": {},
   "outputs": [],
   "source": [
    "<pre id=\"code-block\">\n",
    "<code>\n",
    "# Sample data\n",
    "Student_Dict = [\n",
    "    {'name': 'John', 'age': '23', 'city': 'New York'},\n",
    "    {'name': 'Jane', 'age': '29', 'city': 'Los Angeles'},\n",
    "    {'name': 'Doe', 'age': '25', 'city': 'Chicago'},\n",
    "    {'name': 'Anna', 'age': '22', 'city': 'Houston'}\n",
    "]\n",
    "\n",
    "# Iterate through the list and print entries with age greater than 25\n",
    "for person in Student_Dict:\n",
    "    if int(person['age']) > 25:\n",
    "        print(person)\n",
    "</code>\n",
    "</pre>"
   ]
  },
  {
   "cell_type": "markdown",
   "metadata": {},
   "source": [
    "## Q2: Code2 Output\n",
    "{'name': 'Jane', 'age': '29', 'city': 'Los Angeles'}"
   ]
  },
  {
   "cell_type": "markdown",
   "metadata": {},
   "source": [
    "## Q3: 輸出篩選後的結果儲存至新 CSV 文件(filtered_data.csv)"
   ]
  },
  {
   "cell_type": "markdown",
   "metadata": {},
   "source": [
    "## Q3 ----- Code ----- "
   ]
  },
  {
   "cell_type": "code",
   "execution_count": null,
   "metadata": {},
   "outputs": [],
   "source": [
    "<pre id=\"code-block\">\n",
    "<code>\n",
    "import csv\n",
    "\n",
    "# Data to be exported\n",
    "data = {'name': 'Jane', 'age': '29', 'city': 'Los Angeles'}\n",
    "\n",
    "# Specify the CSV file name\n",
    "file_name = 'filtered_data.csv'\n",
    "\n",
    "# Open the file in write mode and create a CSV writer\n",
    "with open(file_name, 'w', newline='') as csvfile:\n",
    "    \n",
    "    # return a view of the keys, which are 'name', 'age', and 'city'.\n",
    "    writer = csv.DictWriter(csvfile, fieldnames=data.keys())\n",
    "    \n",
    "    # Write the header\n",
    "    writer.writeheader()\n",
    "    \n",
    "    # Write the data\n",
    "    writer.writerow(data)\n",
    "\n",
    "print(f\"Data exported to {file_name}\")\n",
    "</code>\n",
    "</pre>"
   ]
  },
  {
   "cell_type": "markdown",
   "metadata": {},
   "source": [
    "## Q3: Output message\n",
    "Data exported to filtered_data.csv"
   ]
  },
  {
   "cell_type": "markdown",
   "metadata": {},
   "source": [
    "## Q3: Output \n",
    "### The content of filtered_data.csv\n",
    "name,age,city\n",
    "Jane,29,Los Angeles"
   ]
  }
 ],
 "metadata": {
  "kernelspec": {
   "display_name": "tvdi",
   "language": "python",
   "name": "python3"
  },
  "language_info": {
   "codemirror_mode": {
    "name": "ipython",
    "version": 3
   },
   "file_extension": ".py",
   "mimetype": "text/x-python",
   "name": "python",
   "nbconvert_exporter": "python",
   "pygments_lexer": "ipython3",
   "version": "3.11.10"
  }
 },
 "nbformat": 4,
 "nbformat_minor": 2
}
