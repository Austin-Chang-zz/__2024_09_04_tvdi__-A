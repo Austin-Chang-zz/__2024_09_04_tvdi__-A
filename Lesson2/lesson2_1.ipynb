{
 "cells": [
  {
   "cell_type": "markdown",
   "metadata": {},
   "source": [
    "# Read a names.text and show the print out format"
   ]
  },
  {
   "cell_type": "code",
   "execution_count": 1,
   "metadata": {},
   "outputs": [
    {
     "name": "stdout",
     "output_type": "stream",
     "text": [
      "hello! Python!\n",
      "hello! Python!\n",
      "hello! Python!\n"
     ]
    }
   ],
   "source": [
    "print(\"hello! Python!\")\n",
    "print(\"hello! Python!\")\n",
    "print(\"hello! Python!\")"
   ]
  },
  {
   "cell_type": "code",
   "execution_count": 6,
   "metadata": {},
   "outputs": [
    {
     "name": "stdout",
     "output_type": "stream",
     "text": [
      "False\n",
      "True\n"
     ]
    }
   ],
   "source": [
    "file = open('names.txt',encoding='utf-8')\n",
    "type(file)\n",
    "print(file.closed) # file 物件的屬性\n",
    "file.close()\n",
    "print(file.closed)"
   ]
  },
  {
   "cell_type": "code",
   "execution_count": 8,
   "metadata": {},
   "outputs": [],
   "source": [
    "file = open('names.txt',encoding='utf-8')\n",
    "if not file.closed:\n",
    "        file.close()"
   ]
  },
  {
   "cell_type": "code",
   "execution_count": null,
   "metadata": {},
   "outputs": [],
   "source": [
    "with open('names.txt',encoding='utf-8') as file:\n",
    "    content = file.read()\n",
    "    # print(content)\n",
    "    display(content)  \n",
    "        # see the format\n",
    "\n",
    "if file.closed:\n",
    "    print(\"file is closed\")\n",
    "else:\n",
    "    print(\"file is not closed\")\n"
   ]
  },
  {
   "cell_type": "code",
   "execution_count": null,
   "metadata": {},
   "outputs": [],
   "source": [
    "with open('names.txt',encoding='utf-8') as file:\n",
    "    content = file.read()\n",
    "    print(content)\n",
    "\n",
    "if file.closed:\n",
    "    print(\"檔案已經關閉\")\n",
    "else:\n",
    "    print(\"檔案沒有關閉\")"
   ]
  },
  {
   "cell_type": "code",
   "execution_count": null,
   "metadata": {},
   "outputs": [],
   "source": [
    "type(content) "
   ]
  },
  {
   "cell_type": "code",
   "execution_count": null,
   "metadata": {},
   "outputs": [],
   "source": [
    "name_list = content.split(sep=\"\\n\")"
   ]
  },
  {
   "cell_type": "code",
   "execution_count": 22,
   "metadata": {},
   "outputs": [],
   "source": [
    "chang_list = []\n",
    "for name in name_list:\n",
    "    if '張' in name:\n",
    "        chang_list.append(name)"
   ]
  },
  {
   "cell_type": "code",
   "execution_count": null,
   "metadata": {},
   "outputs": [],
   "source": [
    "chang_list"
   ]
  },
  {
   "cell_type": "code",
   "execution_count": 26,
   "metadata": {},
   "outputs": [],
   "source": [
    "with open('chang.txt',mode='w',encoding='utf-8') as file:\n",
    "    for chang in chang_list:\n",
    "        file.write(chang)\n",
    "        file.write(',')"
   ]
  }
 ],
 "metadata": {
  "kernelspec": {
   "display_name": "tvdi",
   "language": "python",
   "name": "python3"
  },
  "language_info": {
   "codemirror_mode": {
    "name": "ipython",
    "version": 3
   },
   "file_extension": ".py",
   "mimetype": "text/x-python",
   "name": "python",
   "nbconvert_exporter": "python",
   "pygments_lexer": "ipython3",
   "version": "3.11.10"
  }
 },
 "nbformat": 4,
 "nbformat_minor": 2
}
