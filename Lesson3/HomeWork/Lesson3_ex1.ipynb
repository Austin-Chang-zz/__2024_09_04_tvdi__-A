{
 "cells": [
  {
   "cell_type": "code",
   "execution_count": 9,
   "metadata": {},
   "outputs": [
    {
     "name": "stdout",
     "output_type": "stream",
     "text": [
      "Image saved as a4.jpg\n"
     ]
    }
   ],
   "source": [
    "import requests\n",
    "\n",
    "# Image URL\n",
    "url = 'https://webusupload.apowersoft.info/gitmind/wp-content/uploads/2024/05/ai-girl-generator-12.jpg.webp'\n",
    "\n",
    "# Send a GET request to the URL\n",
    "response = requests.get(url)\n",
    "\n",
    "# Check if the request was successful\n",
    "if response.status_code == 200:\n",
    "    # Open a file in binary write mode and save the image\n",
    "    with open('a4.jpg', 'wb') as file:\n",
    "        file.write(response.content)\n",
    "    print(\"Image saved as a4.jpg\")\n",
    "else:\n",
    "    print(\"Failed to download the image.\")"
   ]
  },
  {
   "cell_type": "code",
   "execution_count": 11,
   "metadata": {},
   "outputs": [
    {
     "name": "stdout",
     "output_type": "stream",
     "text": [
      "File saved as a5.json\n"
     ]
    }
   ],
   "source": [
    "import requests\n",
    "\n",
    "url = 'https://www.google.com.tw/search?q=%E7%BE%8E%E5%A5%B3&sca_esv=965d53c27093c0d9&udm=2&biw=1745&bih=845&sxsrf=ADLYWIKxd5nrlirExbwrSK3tFDuYgb03ng%3A1728797483427&ei=K1sLZ4beGZjg2roP4MSO0Ac&oq=%E7%BE%8E%E5%A5%B3&gs_lp=Egxnd3Mtd2l6LXNlcnAiBue-juWlsyoCCAAyBBAjGCcyBBAjGCcyCBAAGIAEGLEDMgQQABgDMgUQABiABDIIEAAYgAQYsQMyBRAAGIAEMgUQABiABDIFEAAYgAQyBBAAGANIzx1Q-gtYkw1wA3gAkAEAmAEzoAEzqgEBMbgBAcgBAPgBAZgCAaACA5gDAIgGAZIHATGgB4YC&sclient=gws-wiz-serp#vhid=qxsGxlO4PJvD_M&vssid=mosaic'\n",
    "response = requests.get(url)\n",
    "\n",
    "# Check if the request was successful\n",
    "if response.status_code == 200:\n",
    "    with open('a5.json', 'wb') as file:\n",
    "        file.write(response.content)\n",
    "    print(\"File saved as a5.json\")\n",
    "else:\n",
    "    print(\"Failed to download the file.\")"
   ]
  }
 ],
 "metadata": {
  "kernelspec": {
   "display_name": "tvdi",
   "language": "python",
   "name": "python3"
  },
  "language_info": {
   "codemirror_mode": {
    "name": "ipython",
    "version": 3
   },
   "file_extension": ".py",
   "mimetype": "text/x-python",
   "name": "python",
   "nbconvert_exporter": "python",
   "pygments_lexer": "ipython3",
   "version": "3.11.10"
  }
 },
 "nbformat": 4,
 "nbformat_minor": 2
}
